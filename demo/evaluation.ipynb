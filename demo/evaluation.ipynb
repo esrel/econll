{
 "cells": [
  {
   "cell_type": "markdown",
   "id": "6edbf16c",
   "metadata": {},
   "source": [
    "# Evaluation Comparison"
   ]
  },
  {
   "cell_type": "markdown",
   "id": "81d57e90",
   "metadata": {},
   "source": [
    "## eCoNLL "
   ]
  },
  {
   "cell_type": "code",
   "execution_count": 1,
   "id": "42d8765b",
   "metadata": {},
   "outputs": [],
   "source": [
    "import os\n",
    "import sys\n",
    "sys.path.insert(0, os.path.abspath('../src/'))"
   ]
  },
  {
   "cell_type": "code",
   "execution_count": 2,
   "id": "e9349f33",
   "metadata": {},
   "outputs": [],
   "source": [
    "from econll.parser import merge_tag, parse, merge"
   ]
  },
  {
   "cell_type": "code",
   "execution_count": 3,
   "id": "d73c7f1b",
   "metadata": {},
   "outputs": [],
   "source": [
    "from econll.aligner import align\n",
    "from econll.rebaser import rebase"
   ]
  },
  {
   "cell_type": "code",
   "execution_count": 4,
   "id": "a205e0c7",
   "metadata": {},
   "outputs": [],
   "source": [
    "from econll.scorer import chunkeval, tokeneval"
   ]
  },
  {
   "cell_type": "markdown",
   "id": "802bb5e0",
   "metadata": {},
   "source": [
    "## Data"
   ]
  },
  {
   "cell_type": "code",
   "execution_count": 5,
   "id": "f048c3da",
   "metadata": {},
   "outputs": [],
   "source": [
    "import nltk"
   ]
  },
  {
   "cell_type": "code",
   "execution_count": 6,
   "id": "c22fe5ef",
   "metadata": {},
   "outputs": [
    {
     "name": "stderr",
     "output_type": "stream",
     "text": [
      "[nltk_data] Downloading package conll2002 to /Users/eas/nltk_data...\n",
      "[nltk_data]   Package conll2002 is already up-to-date!\n"
     ]
    },
    {
     "data": {
      "text/plain": [
       "True"
      ]
     },
     "execution_count": 6,
     "metadata": {},
     "output_type": "execute_result"
    }
   ],
   "source": [
    "nltk.download('conll2002')"
   ]
  },
  {
   "cell_type": "code",
   "execution_count": 7,
   "id": "9cc0430b",
   "metadata": {},
   "outputs": [],
   "source": [
    "from nltk.corpus import conll2002"
   ]
  },
  {
   "cell_type": "code",
   "execution_count": 8,
   "id": "05326525",
   "metadata": {},
   "outputs": [],
   "source": [
    "# trn = [[(text, iob) for text, pos, iob in sent] for sent in conll2002.iob_sents('esp.train')]\n",
    "tst = [[(text, iob) for text, pos, iob in sent] for sent in conll2002.iob_sents('esp.testa')]"
   ]
  },
  {
   "cell_type": "code",
   "execution_count": 9,
   "id": "2f38013d",
   "metadata": {},
   "outputs": [],
   "source": [
    "# references\n",
    "tst_tok = [[text for text, iob in sent] for sent in tst]\n",
    "tst_tag = [[iob for text, iob in sent] for sent in tst]\n",
    "tst_txt = [\" \".join(sent) for sent in tst_tok]"
   ]
  },
  {
   "cell_type": "markdown",
   "id": "4b40a768",
   "metadata": {},
   "source": [
    "## spaCy Predictions"
   ]
  },
  {
   "cell_type": "code",
   "execution_count": 10,
   "id": "16a0739e",
   "metadata": {},
   "outputs": [],
   "source": [
    "import spacy"
   ]
  },
  {
   "cell_type": "code",
   "execution_count": 11,
   "id": "44126ddc",
   "metadata": {},
   "outputs": [],
   "source": [
    "# !python -m spacy download es_core_news_sm"
   ]
  },
  {
   "cell_type": "code",
   "execution_count": 12,
   "id": "0ac9417a",
   "metadata": {},
   "outputs": [],
   "source": [
    "nlp = spacy.load(\"es_core_news_sm\")"
   ]
  },
  {
   "cell_type": "code",
   "execution_count": 13,
   "id": "84a354f9",
   "metadata": {},
   "outputs": [],
   "source": [
    "# get spacy predictions on the test set\n",
    "tst_hyp = [[(tok.text, merge_tag((tok.ent_type_ or None), tok.ent_iob_)) for tok in nlp(sent)] for sent in tst_txt]"
   ]
  },
  {
   "cell_type": "code",
   "execution_count": 14,
   "id": "085e4fa5",
   "metadata": {},
   "outputs": [
    {
     "name": "stdout",
     "output_type": "stream",
     "text": [
      "refs: 1915 vs. hyps: 1915 -> 132 with different tokenization\n"
     ]
    }
   ],
   "source": [
    "# compare input & output\n",
    "\n",
    "diff = sum([int(len(ref) != len(hyp)) for ref, hyp in zip(tst, tst_hyp)])\n",
    "print(f\"refs: {len(tst)} vs. hyps: {len(tst_hyp)} -> {diff} with different tokenization\")"
   ]
  },
  {
   "cell_type": "markdown",
   "id": "de1a0b54",
   "metadata": {},
   "source": [
    "## Alignment & Transfer"
   ]
  },
  {
   "cell_type": "code",
   "execution_count": 15,
   "id": "fc6f8686",
   "metadata": {},
   "outputs": [],
   "source": [
    "hyp_tok = [[txt for txt, tag in sent] for sent in tst_hyp]\n",
    "hyp_tag = [[tag for txt, tag in sent] for sent in tst_hyp]"
   ]
  },
  {
   "cell_type": "code",
   "execution_count": 16,
   "id": "94fe85ed",
   "metadata": {},
   "outputs": [],
   "source": [
    "aln_tag = [rebase(ref, hyp, val, scheme=\"IOB\") \n",
    "           for ref, hyp, val in zip(tst_tok, hyp_tok, hyp_tag)]"
   ]
  },
  {
   "cell_type": "code",
   "execution_count": 17,
   "id": "5ea1e88d",
   "metadata": {},
   "outputs": [
    {
     "name": "stdout",
     "output_type": "stream",
     "text": [
      "refs: 1915 vs. hyps: 1915 -> 0 with different tokenization\n"
     ]
    }
   ],
   "source": [
    "diff = sum([int(len(ref) != len(hyp)) for ref, hyp in zip(tst, aln_tag)])\n",
    "print(f\"refs: {len(tst)} vs. hyps: {len(aln_tag)} -> {diff} with different tokenization\")"
   ]
  },
  {
   "cell_type": "code",
   "execution_count": 18,
   "id": "342a9735",
   "metadata": {},
   "outputs": [
    {
     "data": {
      "text/plain": [
       "['B-LOC', 'I-LOC', 'O', 'B-LOC', 'O', 'O', 'O', 'O', 'O', 'B-ORG', 'O', 'O']"
      ]
     },
     "execution_count": 18,
     "metadata": {},
     "output_type": "execute_result"
    }
   ],
   "source": [
    "aln_tag[0]"
   ]
  },
  {
   "cell_type": "markdown",
   "id": "7f66de3f",
   "metadata": {},
   "source": [
    "## Evaluation Comparison"
   ]
  },
  {
   "cell_type": "code",
   "execution_count": 19,
   "id": "be71cc47",
   "metadata": {},
   "outputs": [],
   "source": [
    "from sklearn.metrics import classification_report as sklearn_report\n",
    "from seqeval.metrics import classification_report as seqeval_report"
   ]
  },
  {
   "cell_type": "markdown",
   "id": "f3e6a9ca",
   "metadata": {},
   "source": [
    "### `scikit-learn`"
   ]
  },
  {
   "cell_type": "code",
   "execution_count": 20,
   "id": "0d8d2a69",
   "metadata": {},
   "outputs": [
    {
     "name": "stdout",
     "output_type": "stream",
     "text": [
      "              precision    recall  f1-score   support\n",
      "\n",
      "       B-LOC     0.4620    0.7419    0.5694       984\n",
      "      B-MISC     0.2041    0.2876    0.2388       445\n",
      "       B-ORG     0.7638    0.4982    0.6031      1700\n",
      "       B-PER     0.6962    0.7201    0.7080      1222\n",
      "       I-LOC     0.3400    0.7596    0.4697       337\n",
      "      I-MISC     0.3087    0.2997    0.3041       654\n",
      "       I-ORG     0.7556    0.3690    0.4958      1366\n",
      "       I-PER     0.7958    0.8847    0.8379       859\n",
      "           O     0.9817    0.9812    0.9814     45356\n",
      "\n",
      "    accuracy                         0.9222     52923\n",
      "   macro avg     0.5898    0.6158    0.5787     52923\n",
      "weighted avg     0.9306    0.9222    0.9226     52923\n",
      "\n"
     ]
    }
   ],
   "source": [
    "print(sklearn_report([tag for block in tst_tag for tag in block],\n",
    "                     [tag for block in aln_tag for tag in block],\n",
    "                     digits=4))"
   ]
  },
  {
   "cell_type": "markdown",
   "id": "a25ecada",
   "metadata": {},
   "source": [
    "### `seqeval`"
   ]
  },
  {
   "cell_type": "code",
   "execution_count": 21,
   "id": "f6e41a0f",
   "metadata": {},
   "outputs": [
    {
     "name": "stdout",
     "output_type": "stream",
     "text": [
      "              precision    recall  f1-score   support\n",
      "\n",
      "         LOC     0.4563    0.7320    0.5622       985\n",
      "        MISC     0.1707    0.2404    0.1996       445\n",
      "         ORG     0.7142    0.4659    0.5639      1700\n",
      "         PER     0.6875    0.7111    0.6991      1222\n",
      "\n",
      "   micro avg     0.5434    0.5719    0.5573      4352\n",
      "   macro avg     0.5072    0.5374    0.5062      4352\n",
      "weighted avg     0.5927    0.5719    0.5642      4352\n",
      "\n"
     ]
    }
   ],
   "source": [
    "print(seqeval_report(tst_tag, aln_tag, digits=4))"
   ]
  },
  {
   "cell_type": "markdown",
   "id": "82c57cd3",
   "metadata": {},
   "source": [
    "### `econll`"
   ]
  },
  {
   "cell_type": "code",
   "execution_count": 22,
   "id": "f78e3b4f",
   "metadata": {},
   "outputs": [
    {
     "name": "stdout",
     "output_type": "stream",
     "text": [
      "\n",
      "Chunk-Level Evaluation\n",
      "\n",
      "label     \t pre  \t rec  \t f1s  \t gold \t pred \t true \n",
      "\n",
      "LOC       \t0.4563\t0.7320\t0.5622\t   985\t  1580\t   721\n",
      "MISC      \t0.1707\t0.2404\t0.1996\t   445\t   627\t   107\n",
      "ORG       \t0.7142\t0.4659\t0.5639\t  1700\t  1109\t   792\n",
      "PER       \t0.6875\t0.7111\t0.6991\t  1222\t  1264\t   869\n",
      "\n",
      "token     \t0.9222\t0.9222\t0.9222\t 52923\t 52923\t 48804\n",
      "block     \t0.4480\t0.4480\t0.4480\t  1915\t  1915\t   858\n",
      "spans     \t0.7869\t0.8281\t0.8070\t  4352\t  4580\t  3604\n",
      "micro     \t0.5434\t0.5719\t0.5573\t  4352\t  4580\t  2489\n",
      "macro     \t0.5072\t0.5374\t0.5062\t  4352\t  4580\t  2489\n",
      "weighted  \t0.5927\t0.5719\t0.5642\t  4352\t  4580\t  2489\n",
      "\n"
     ]
    }
   ],
   "source": [
    "print(chunkeval(tst_tag, aln_tag))"
   ]
  },
  {
   "cell_type": "code",
   "execution_count": 23,
   "id": "7245e83a",
   "metadata": {},
   "outputs": [
    {
     "name": "stdout",
     "output_type": "stream",
     "text": [
      "\n",
      "Token-Level Evaluation\n",
      "\n",
      "label     \t pre  \t rec  \t f1s  \t gold \t pred \t true \n",
      "\n",
      "B-LOC     \t0.4620\t0.7419\t0.5694\t   984\t  1580\t   730\n",
      "B-MISC    \t0.2041\t0.2876\t0.2388\t   445\t   627\t   128\n",
      "B-ORG     \t0.7638\t0.4982\t0.6031\t  1700\t  1109\t   847\n",
      "B-PER     \t0.6962\t0.7201\t0.7080\t  1222\t  1264\t   880\n",
      "I-LOC     \t0.3400\t0.7596\t0.4697\t   337\t   753\t   256\n",
      "I-MISC    \t0.3087\t0.2997\t0.3041\t   654\t   635\t   196\n",
      "I-ORG     \t0.7556\t0.3690\t0.4958\t  1366\t   667\t   504\n",
      "I-PER     \t0.7958\t0.8847\t0.8379\t   859\t   955\t   760\n",
      "O         \t0.9817\t0.9812\t0.9814\t 45356\t 45333\t 44503\n",
      "\n",
      "block     \t0.4480\t0.4480\t0.4480\t  1915\t  1915\t   858\n",
      "micro     \t0.9222\t0.9222\t0.9222\t 52923\t 52923\t 48804\n",
      "macro     \t0.5898\t0.6158\t0.5787\t 52923\t 52923\t 48804\n",
      "weighted  \t0.9306\t0.9222\t0.9226\t 52923\t 52923\t 48804\n",
      "\n"
     ]
    }
   ],
   "source": [
    "print(tokeneval(tst_tag, aln_tag))"
   ]
  },
  {
   "cell_type": "code",
   "execution_count": null,
   "id": "e6709f01",
   "metadata": {},
   "outputs": [],
   "source": []
  }
 ],
 "metadata": {
  "kernelspec": {
   "display_name": "Python 3 (ipykernel)",
   "language": "python",
   "name": "python3"
  },
  "language_info": {
   "codemirror_mode": {
    "name": "ipython",
    "version": 3
   },
   "file_extension": ".py",
   "mimetype": "text/x-python",
   "name": "python",
   "nbconvert_exporter": "python",
   "pygments_lexer": "ipython3",
   "version": "3.10.4"
  }
 },
 "nbformat": 4,
 "nbformat_minor": 5
}
